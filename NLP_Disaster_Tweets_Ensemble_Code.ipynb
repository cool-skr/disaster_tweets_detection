{
  "nbformat": 4,
  "nbformat_minor": 0,
  "metadata": {
    "colab": {
      "provenance": []
    },
    "kernelspec": {
      "name": "python3",
      "display_name": "Python 3"
    },
    "language_info": {
      "name": "python"
    }
  },
  "cells": [
    {
      "cell_type": "code",
      "source": [
        "from google.colab import drive\n",
        "drive.mount('/content/drive')"
      ],
      "metadata": {
        "colab": {
          "base_uri": "https://localhost:8080/"
        },
        "id": "JlEDacMnu5GR",
        "outputId": "6a462a28-39e2-4dc6-c782-f6a316196ff5"
      },
      "execution_count": null,
      "outputs": [
        {
          "output_type": "stream",
          "name": "stdout",
          "text": [
            "Mounted at /content/drive\n"
          ]
        }
      ]
    },
    {
      "cell_type": "code",
      "execution_count": 10,
      "metadata": {
        "colab": {
          "base_uri": "https://localhost:8080/"
        },
        "id": "A9EQgLW0uzj5",
        "outputId": "a654fe0f-f7c4-435b-b2fb-b7a34e385bbf"
      },
      "outputs": [
        {
          "output_type": "stream",
          "name": "stdout",
          "text": [
            "Ensemble predictions saved to /content/drive/MyDrive/LLM Workshop/Ensemble/ensemble_predictions_9.csv\n"
          ]
        }
      ],
      "source": [
        "import pandas as pd\n",
        "\n",
        "# Load predictions from each model CSV file\n",
        "df_model1 = pd.read_csv('/content/drive/MyDrive/LLM Workshop/Ensemble/predictions_distil_layers_3.csv')\n",
        "df_model2 = pd.read_csv('/content/drive/MyDrive/LLM Workshop/Ensemble/ensemble_predictions_4.csv')\n",
        "df_model3 = pd.read_csv('/content/drive/MyDrive/LLM Workshop/Ensemble/predictions_roberta.csv')\n",
        "df_model4 = pd.read_csv('/content/drive/MyDrive/LLM Workshop/Ensemble/predictions_distil_1_5.csv')\n",
        "df_model5 = pd.read_csv('/content/drive/MyDrive/LLM Workshop/Ensemble/predictions_distil_layers_5.csv')\n",
        "df_model6 = pd.read_csv('/content/drive/MyDrive/LLM Workshop/Ensemble/predictions_distille-6.csv')\n",
        "\n",
        "# Merge the predictions dataframes on a common column (e.g., ID)\n",
        "merged_df = pd.merge(df_model1[['id', 'target']], df_model2[['id', 'target']], on='id', suffixes=('_model1', '_model2'))\n",
        "merged3_df = pd.merge(df_model3[['id', 'target']], df_model6[['id', 'target']], on='id', suffixes=('_model3', '_model6'))\n",
        "merged_df = pd.merge(merged_df, merged3_df, on='id')\n",
        "merged2_df = pd.merge(df_model4[['id', 'target']], df_model5[['id', 'target']], on='id', suffixes=('_model4', '_model5'))\n",
        "merged_df = pd.merge(merged2_df, merged_df, on='id')\n",
        "\n",
        "\n",
        "# Perform majority voting for ensemble predictions\n",
        "def majority_vote(row):\n",
        "    votes = row['target_model1'] + row['target_model2'] + row['target_model3'] + row['target_model4'] + row['target_model5']\n",
        "    return 1 if votes >= 2 else 0\n",
        "\n",
        "merged_df['Ensemble_Target'] = merged_df.apply(majority_vote, axis=1)\n",
        "\n",
        "# Save ensemble predictions to CSV\n",
        "ensemble_predictions_csv = '/content/drive/MyDrive/LLM Workshop/Ensemble/ensemble_predictions_9.csv'\n",
        "merged_df[['id', 'Ensemble_Target']].to_csv(ensemble_predictions_csv, index=False)\n",
        "print(f'Ensemble predictions saved to {ensemble_predictions_csv}')\n"
      ]
    }
  ]
}